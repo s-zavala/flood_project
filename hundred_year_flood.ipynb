{
 "cells": [
  {
   "cell_type": "code",
   "execution_count": 19,
   "id": "edc47351",
   "metadata": {},
   "outputs": [],
   "source": [
    "%matplotlib inline\n",
    "\n",
    "import os\n",
    "import urllib\n",
    "import requests\n",
    "import math\n",
    "import matplotlib.pyplot as plt\n",
    "import seaborn as sns\n",
    "import pandas as pd\n",
    "import earthpy as et\n",
    "import hydrofunctions as hf"
   ]
  },
  {
   "cell_type": "code",
   "execution_count": 20,
   "id": "af3f96d8",
   "metadata": {},
   "outputs": [],
   "source": [
    "# Date time conversion registration\n",
    "from pandas.plotting import register_matplotlib_converters\n",
    "register_matplotlib_converters()"
   ]
  },
  {
   "cell_type": "code",
   "execution_count": 21,
   "id": "365dc4e0",
   "metadata": {},
   "outputs": [],
   "source": [
    "# Get data set. This may take a minute.\n",
    "data = et.data.get_data('colorado-flood')"
   ]
  },
  {
   "cell_type": "code",
   "execution_count": 22,
   "id": "960186b4",
   "metadata": {},
   "outputs": [],
   "source": [
    "# Set working directory.\n",
    "os.chdir(os.path.join(et.io.HOME, 'earth-analytics'))"
   ]
  },
  {
   "cell_type": "code",
   "execution_count": 23,
   "id": "9214d115",
   "metadata": {},
   "outputs": [],
   "source": [
    "# Prettier plotting with seaborn.\n",
    "sns.set(font_scale=1.5, style=\"whitegrid\")"
   ]
  },
  {
   "cell_type": "code",
   "execution_count": 24,
   "id": "4edc50ae",
   "metadata": {},
   "outputs": [
    {
     "data": {
      "text/html": [
       "<p>Use <a href=\"http://hydrocloud.org\" target=\"_blank\">HydroCloud.org</a> to find a stream gauge. Click on the dots to learn more about a site.</p><iframe src=http://hydrocloud.org/ width=700 height=400></iframe>"
      ],
      "text/plain": [
       "<IPython.core.display.HTML object>"
      ]
     },
     "execution_count": 24,
     "metadata": {},
     "output_type": "execute_result"
    }
   ],
   "source": [
    "# Create a map.\n",
    "hf.draw_map()"
   ]
  },
  {
   "cell_type": "code",
   "execution_count": 25,
   "id": "7e991b6f",
   "metadata": {},
   "outputs": [],
   "source": [
    "# Request data for all streamgage aka stream gauge stations in Colorado.\n",
    "PR = hf.NWIS(stateCd='CO').get_data()"
   ]
  },
  {
   "cell_type": "code",
   "execution_count": 26,
   "id": "29c4c47f",
   "metadata": {},
   "outputs": [
    {
     "data": {
      "text/plain": [
       "['COLORADO CREEK NEAR SPICER, CO.',\n",
       " 'GRIZZLY CREEK NEAR SPICER, CO.',\n",
       " 'BUFFALO CREEK NEAR HEBRON, CO.',\n",
       " 'GRIZZLY CREEK NEAR HEBRON, CO.',\n",
       " 'GRIZZLY CREEK NEAR WALDEN, CO']"
      ]
     },
     "execution_count": 26,
     "metadata": {},
     "output_type": "execute_result"
    }
   ],
   "source": [
    "# List names of the first five sites.\n",
    "PR.siteName[0:5]"
   ]
  },
  {
   "cell_type": "code",
   "execution_count": 27,
   "id": "c5a8c85a",
   "metadata": {},
   "outputs": [],
   "source": [
    "# Consider the big picture.\n",
    "# What is the likelihood of observing a 'hundred-year flood' this year, if we observed one last year?\n",
    "# The probability is still 1/100.\n",
    "# Analyze streamgage data. Find recurrence interval. Compare to probability."
   ]
  },
  {
   "cell_type": "code",
   "execution_count": 28,
   "id": "f8aea3eb",
   "metadata": {},
   "outputs": [],
   "source": [
    "# There are two types of flood data: Mean daily streamflow and Annual maximum instantaneous streamflow.\n",
    "# How will these types compare?"
   ]
  },
  {
   "cell_type": "code",
   "execution_count": 29,
   "id": "15526bb9",
   "metadata": {},
   "outputs": [],
   "source": [
    "# Get data from the hydrofunctions api.\n",
    "site = \"06730500\"\n",
    "start = \"1946-05-10\"\n",
    "end = \"2018-08-29\"\n",
    "\n",
    "# Request data for this site, during this time period. 'dv' is Daily Value data.\n",
    "longmont_resp = hf.get_nwis(site, 'dv', start, end)"
   ]
  },
  {
   "cell_type": "code",
   "execution_count": 30,
   "id": "30fc87ef",
   "metadata": {},
   "outputs": [],
   "source": [
    "# Convert to json format in order to use the extract_nwis_df function.\n",
    "longmont_resp = longmont_resp.json()"
   ]
  },
  {
   "cell_type": "code",
   "execution_count": 31,
   "id": "51cbf84c",
   "metadata": {},
   "outputs": [
    {
     "data": {
      "text/plain": [
       "{'name': 'ns1:timeSeriesResponseType',\n",
       " 'declaredType': 'org.cuahsi.waterml.TimeSeriesResponseType',\n",
       " 'scope': 'javax.xml.bind.JAXBElement$GlobalScope',\n",
       " 'value': {'queryInfo': {'queryURL': 'http://waterservices.usgs.gov/nwis/dv/format=json%2C1.1&sites=06730500&parameterCd=00060',\n",
       "   'criteria': {'locationParam': '[ALL:06730500]',\n",
       "    'variableParam': '[00060]',\n",
       "    'parameter': []},\n",
       "   'note': [{'value': '[ALL:06730500]', 'title': 'filter:sites'},\n",
       "    {'value': '[mode=LATEST, modifiedSince=null]',\n",
       "     'title': 'filter:timeRange'},\n",
       "    {'value': 'methodIds=[ALL]', 'title': 'filter:methodId'},\n",
       "    {'value': '2021-05-01T17:16:23.179Z', 'title': 'requestDT'},\n",
       "    {'value': 'f41a36a0-aaa0-11eb-bbc1-2cea7f58f5ca', 'title': 'requestId'},\n",
       "    {'value': 'Provisional data are subject to revision. Go to http://waterdata.usgs.gov/nwis/help/?provisional for more information.',\n",
       "     'title': 'disclaimer'},\n",
       "    {'value': 'vaas01', 'title': 'server'}]},\n",
       "  'timeSeries': [{'sourceInfo': {'siteName': 'BOULDER CREEK AT MOUTH NEAR LONGMONT, CO',\n",
       "     'siteCode': [{'value': '06730500',\n",
       "       'network': 'NWIS',\n",
       "       'agencyCode': 'USGS'}],\n",
       "     'timeZoneInfo': {'defaultTimeZone': {'zoneOffset': '-07:00',\n",
       "       'zoneAbbreviation': 'MST'},\n",
       "      'daylightSavingsTimeZone': {'zoneOffset': '-06:00',\n",
       "       'zoneAbbreviation': 'MDT'},\n",
       "      'siteUsesDaylightSavingsTime': True},\n",
       "     'geoLocation': {'geogLocation': {'srs': 'EPSG:4326',\n",
       "       'latitude': 40.13877778,\n",
       "       'longitude': -105.0202222},\n",
       "      'localSiteXY': []},\n",
       "     'note': [],\n",
       "     'siteType': [],\n",
       "     'siteProperty': [{'value': 'ST', 'name': 'siteTypeCd'},\n",
       "      {'value': '10190005', 'name': 'hucCd'},\n",
       "      {'value': '08', 'name': 'stateCd'},\n",
       "      {'value': '08123', 'name': 'countyCd'}]},\n",
       "    'variable': {'variableCode': [{'value': '00060',\n",
       "       'network': 'NWIS',\n",
       "       'vocabulary': 'NWIS:UnitValues',\n",
       "       'variableID': 45807197,\n",
       "       'default': True}],\n",
       "     'variableName': 'Streamflow, ft&#179;/s',\n",
       "     'variableDescription': 'Discharge, cubic feet per second',\n",
       "     'valueType': 'Derived Value',\n",
       "     'unit': {'unitCode': 'ft3/s'},\n",
       "     'options': {'option': [{'value': 'Mean',\n",
       "        'name': 'Statistic',\n",
       "        'optionCode': '00003'}]},\n",
       "     'note': [],\n",
       "     'noDataValue': -999999.0,\n",
       "     'variableProperty': [],\n",
       "     'oid': '45807197'},\n",
       "    'values': [{'value': [{'value': '98.1',\n",
       "        'qualifiers': ['P'],\n",
       "        'dateTime': '2021-04-30T00:00:00.000'}],\n",
       "      'qualifier': [{'qualifierCode': 'P',\n",
       "        'qualifierDescription': 'Provisional data subject to revision.',\n",
       "        'qualifierID': 0,\n",
       "        'network': 'NWIS',\n",
       "        'vocabulary': 'uv_rmk_cd'}],\n",
       "      'qualityControlLevel': [],\n",
       "      'method': [{'methodDescription': '', 'methodID': 17666}],\n",
       "      'source': [],\n",
       "      'offset': [],\n",
       "      'sample': [],\n",
       "      'censorCode': []}],\n",
       "    'name': 'USGS:06730500:00060:00003'}]},\n",
       " 'nil': False,\n",
       " 'globalScope': True,\n",
       " 'typeSubstituted': False}"
      ]
     },
     "execution_count": 31,
     "metadata": {},
     "output_type": "execute_result"
    }
   ],
   "source": [
    "# Get site metadata.\n",
    "hf.get_nwis(site, 'dv').json()"
   ]
  },
  {
   "cell_type": "code",
   "execution_count": 32,
   "id": "b67a8327",
   "metadata": {},
   "outputs": [
    {
     "data": {
      "text/html": [
       "<div>\n",
       "<style scoped>\n",
       "    .dataframe tbody tr th:only-of-type {\n",
       "        vertical-align: middle;\n",
       "    }\n",
       "\n",
       "    .dataframe tbody tr th {\n",
       "        vertical-align: top;\n",
       "    }\n",
       "\n",
       "    .dataframe thead th {\n",
       "        text-align: right;\n",
       "    }\n",
       "</style>\n",
       "<table border=\"1\" class=\"dataframe\">\n",
       "  <thead>\n",
       "    <tr style=\"text-align: right;\">\n",
       "      <th></th>\n",
       "      <th>USGS:06730500:00060:00003</th>\n",
       "      <th>USGS:06730500:00060:00003_qualifiers</th>\n",
       "    </tr>\n",
       "    <tr>\n",
       "      <th>datetime</th>\n",
       "      <th></th>\n",
       "      <th></th>\n",
       "    </tr>\n",
       "  </thead>\n",
       "  <tbody>\n",
       "    <tr>\n",
       "      <th>1946-05-10</th>\n",
       "      <td>16.0</td>\n",
       "      <td>A</td>\n",
       "    </tr>\n",
       "    <tr>\n",
       "      <th>1946-05-11</th>\n",
       "      <td>19.0</td>\n",
       "      <td>A</td>\n",
       "    </tr>\n",
       "    <tr>\n",
       "      <th>1946-05-12</th>\n",
       "      <td>9.0</td>\n",
       "      <td>A</td>\n",
       "    </tr>\n",
       "    <tr>\n",
       "      <th>1946-05-13</th>\n",
       "      <td>3.0</td>\n",
       "      <td>A</td>\n",
       "    </tr>\n",
       "    <tr>\n",
       "      <th>1946-05-14</th>\n",
       "      <td>7.8</td>\n",
       "      <td>A</td>\n",
       "    </tr>\n",
       "  </tbody>\n",
       "</table>\n",
       "</div>"
      ],
      "text/plain": [
       "            USGS:06730500:00060:00003 USGS:06730500:00060:00003_qualifiers\n",
       "datetime                                                                  \n",
       "1946-05-10                       16.0                                    A\n",
       "1946-05-11                       19.0                                    A\n",
       "1946-05-12                        9.0                                    A\n",
       "1946-05-13                        3.0                                    A\n",
       "1946-05-14                        7.8                                    A"
      ]
     },
     "execution_count": 32,
     "metadata": {},
     "output_type": "execute_result"
    }
   ],
   "source": [
    "# Get the discharge data in a pandas DataFrame format.\n",
    "longmont_discharge = hf.extract_nwis_df(longmont_resp)\n",
    "longmont_discharge.head()"
   ]
  },
  {
   "cell_type": "code",
   "execution_count": 33,
   "id": "ca8b3a9e",
   "metadata": {},
   "outputs": [
    {
     "data": {
      "text/html": [
       "<div>\n",
       "<style scoped>\n",
       "    .dataframe tbody tr th:only-of-type {\n",
       "        vertical-align: middle;\n",
       "    }\n",
       "\n",
       "    .dataframe tbody tr th {\n",
       "        vertical-align: top;\n",
       "    }\n",
       "\n",
       "    .dataframe thead th {\n",
       "        text-align: right;\n",
       "    }\n",
       "</style>\n",
       "<table border=\"1\" class=\"dataframe\">\n",
       "  <thead>\n",
       "    <tr style=\"text-align: right;\">\n",
       "      <th></th>\n",
       "      <th>discharge</th>\n",
       "      <th>flag</th>\n",
       "    </tr>\n",
       "    <tr>\n",
       "      <th>datetime</th>\n",
       "      <th></th>\n",
       "      <th></th>\n",
       "    </tr>\n",
       "  </thead>\n",
       "  <tbody>\n",
       "    <tr>\n",
       "      <th>1946-05-10</th>\n",
       "      <td>16.0</td>\n",
       "      <td>A</td>\n",
       "    </tr>\n",
       "    <tr>\n",
       "      <th>1946-05-11</th>\n",
       "      <td>19.0</td>\n",
       "      <td>A</td>\n",
       "    </tr>\n",
       "    <tr>\n",
       "      <th>1946-05-12</th>\n",
       "      <td>9.0</td>\n",
       "      <td>A</td>\n",
       "    </tr>\n",
       "    <tr>\n",
       "      <th>1946-05-13</th>\n",
       "      <td>3.0</td>\n",
       "      <td>A</td>\n",
       "    </tr>\n",
       "    <tr>\n",
       "      <th>1946-05-14</th>\n",
       "      <td>7.8</td>\n",
       "      <td>A</td>\n",
       "    </tr>\n",
       "  </tbody>\n",
       "</table>\n",
       "</div>"
      ],
      "text/plain": [
       "            discharge flag\n",
       "datetime                  \n",
       "1946-05-10       16.0    A\n",
       "1946-05-11       19.0    A\n",
       "1946-05-12        9.0    A\n",
       "1946-05-13        3.0    A\n",
       "1946-05-14        7.8    A"
      ]
     },
     "execution_count": 33,
     "metadata": {},
     "output_type": "execute_result"
    }
   ],
   "source": [
    "# For this example, rename the columns for readability. Skip this step when you have multiple sites.\n",
    "longmont_discharge.columns = [\"discharge\", \"flag\"]\n",
    "longmont_discharge.head()"
   ]
  },
  {
   "cell_type": "code",
   "execution_count": 34,
   "id": "c4f4812e",
   "metadata": {},
   "outputs": [
    {
     "data": {
      "text/html": [
       "<div>\n",
       "<style scoped>\n",
       "    .dataframe tbody tr th:only-of-type {\n",
       "        vertical-align: middle;\n",
       "    }\n",
       "\n",
       "    .dataframe tbody tr th {\n",
       "        vertical-align: top;\n",
       "    }\n",
       "\n",
       "    .dataframe thead th {\n",
       "        text-align: right;\n",
       "    }\n",
       "</style>\n",
       "<table border=\"1\" class=\"dataframe\">\n",
       "  <thead>\n",
       "    <tr style=\"text-align: right;\">\n",
       "      <th></th>\n",
       "      <th>discharge</th>\n",
       "      <th>flag</th>\n",
       "    </tr>\n",
       "    <tr>\n",
       "      <th>datetime</th>\n",
       "      <th></th>\n",
       "      <th></th>\n",
       "    </tr>\n",
       "  </thead>\n",
       "  <tbody>\n",
       "    <tr>\n",
       "      <th>2018-08-25</th>\n",
       "      <td>9.86</td>\n",
       "      <td>A</td>\n",
       "    </tr>\n",
       "    <tr>\n",
       "      <th>2018-08-26</th>\n",
       "      <td>7.02</td>\n",
       "      <td>A</td>\n",
       "    </tr>\n",
       "    <tr>\n",
       "      <th>2018-08-27</th>\n",
       "      <td>4.05</td>\n",
       "      <td>A</td>\n",
       "    </tr>\n",
       "    <tr>\n",
       "      <th>2018-08-28</th>\n",
       "      <td>2.67</td>\n",
       "      <td>A</td>\n",
       "    </tr>\n",
       "    <tr>\n",
       "      <th>2018-08-29</th>\n",
       "      <td>3.36</td>\n",
       "      <td>A</td>\n",
       "    </tr>\n",
       "  </tbody>\n",
       "</table>\n",
       "</div>"
      ],
      "text/plain": [
       "            discharge flag\n",
       "datetime                  \n",
       "2018-08-25       9.86    A\n",
       "2018-08-26       7.02    A\n",
       "2018-08-27       4.05    A\n",
       "2018-08-28       2.67    A\n",
       "2018-08-29       3.36    A"
      ]
     },
     "execution_count": 34,
     "metadata": {},
     "output_type": "execute_result"
    }
   ],
   "source": [
    "longmont_discharge.tail()"
   ]
  },
  {
   "cell_type": "code",
   "execution_count": 35,
   "id": "f5dd780a",
   "metadata": {},
   "outputs": [
    {
     "data": {
      "image/png": "[encoded data removed]",
      "text/plain": [
       "<Figure size 792x432 with 1 Axes>"
      ]
     },
     "metadata": {},
     "output_type": "display_data"
    }
   ],
   "source": [
    "# Plot using matplotlib.\n",
    "fig, ax = plt.subplots(figsize=(11, 6))\n",
    "\n",
    "ax.scatter(x=longmont_discharge.index,\n",
    "          y=longmont_discharge[\"discharge\"],\n",
    "          marker='o',\n",
    "          s=4,\n",
    "          color=\"purple\")\n",
    "\n",
    "ax.set(xlabel=\"Date\", ylabel=\"Discharge Value(CFS)\",\n",
    "      title=f\"Stream Discharge - Station {site} \\n {start} to {end}\")\n",
    "\n",
    "plt.show()"
   ]
  },
  {
   "cell_type": "code",
   "execution_count": 38,
   "id": "5933c4a2",
   "metadata": {},
   "outputs": [],
   "source": [
    "# Snag. My plt.show() call gave me this error:\n",
    "# UserWarning: Matplotlib is currently using agg, which is a non-GUI backend, so cannot show the figure.\n",
    "# Solution. I checked stackoverflow.\n",
    "# First, I guessed I needed to install tkinter.\n",
    "# But I checked both the system and virtual env python, and tkinter was up to date.\n",
    "# Then I added %matplotlib inline above my import statements. This tells matplotlib to put graphs next to their cells.\n",
    "# For interactivity use %matplotlib notebook."
   ]
  },
  {
   "cell_type": "code",
   "execution_count": 39,
   "id": "35b7d2ec",
   "metadata": {},
   "outputs": [],
   "source": [
    "# Calculate the annual maximum value from the daily mean values. \n",
    "# Compare this with the instantaneous annual maxiumum dataset from USGS."
   ]
  },
  {
   "cell_type": "code",
   "execution_count": 40,
   "id": "0a5422a1",
   "metadata": {},
   "outputs": [],
   "source": [
    "# Add a year column for convenience.\n",
    "longmont_discharge[\"year\"] = longmont_discharge.index.year"
   ]
  },
  {
   "cell_type": "code",
   "execution_count": 41,
   "id": "0da45227",
   "metadata": {},
   "outputs": [
    {
     "data": {
      "text/html": [
       "<div>\n",
       "<style scoped>\n",
       "    .dataframe tbody tr th:only-of-type {\n",
       "        vertical-align: middle;\n",
       "    }\n",
       "\n",
       "    .dataframe tbody tr th {\n",
       "        vertical-align: top;\n",
       "    }\n",
       "\n",
       "    .dataframe thead th {\n",
       "        text-align: right;\n",
       "    }\n",
       "</style>\n",
       "<table border=\"1\" class=\"dataframe\">\n",
       "  <thead>\n",
       "    <tr style=\"text-align: right;\">\n",
       "      <th></th>\n",
       "      <th>discharge</th>\n",
       "      <th>flag</th>\n",
       "      <th>year</th>\n",
       "    </tr>\n",
       "    <tr>\n",
       "      <th>datetime</th>\n",
       "      <th></th>\n",
       "      <th></th>\n",
       "      <th></th>\n",
       "    </tr>\n",
       "  </thead>\n",
       "  <tbody>\n",
       "    <tr>\n",
       "      <th>1946-01-01</th>\n",
       "      <td>99.0</td>\n",
       "      <td>A</td>\n",
       "      <td>1946.0</td>\n",
       "    </tr>\n",
       "    <tr>\n",
       "      <th>1947-01-01</th>\n",
       "      <td>1930.0</td>\n",
       "      <td>A</td>\n",
       "      <td>1947.0</td>\n",
       "    </tr>\n",
       "    <tr>\n",
       "      <th>1948-01-01</th>\n",
       "      <td>339.0</td>\n",
       "      <td>A</td>\n",
       "      <td>1948.0</td>\n",
       "    </tr>\n",
       "    <tr>\n",
       "      <th>1949-01-01</th>\n",
       "      <td>2010.0</td>\n",
       "      <td>A</td>\n",
       "      <td>1949.0</td>\n",
       "    </tr>\n",
       "    <tr>\n",
       "      <th>1950-01-01</th>\n",
       "      <td>NaN</td>\n",
       "      <td>NaN</td>\n",
       "      <td>NaN</td>\n",
       "    </tr>\n",
       "  </tbody>\n",
       "</table>\n",
       "</div>"
      ],
      "text/plain": [
       "            discharge flag    year\n",
       "datetime                          \n",
       "1946-01-01       99.0    A  1946.0\n",
       "1947-01-01     1930.0    A  1947.0\n",
       "1948-01-01      339.0    A  1948.0\n",
       "1949-01-01     2010.0    A  1949.0\n",
       "1950-01-01        NaN  NaN     NaN"
      ]
     },
     "execution_count": 41,
     "metadata": {},
     "output_type": "execute_result"
    }
   ],
   "source": [
    "# Calc annual max by resampling.\n",
    "longmont_discharge_annual_max = longmont_discharge.resample('AS').max()\n",
    "longmont_discharge_annual_max.head()"
   ]
  },
  {
   "cell_type": "code",
   "execution_count": 42,
   "id": "93dce927",
   "metadata": {},
   "outputs": [
    {
     "data": {
      "text/plain": [
       "('data/colorado-flood/downloads/annual-peak-flow.txt',\n",
       " <http.client.HTTPMessage at 0x7fa82f149d00>)"
      ]
     },
     "execution_count": 42,
     "metadata": {},
     "output_type": "execute_result"
    }
   ],
   "source": [
    "# Import USGS dataset.\n",
    "url = \"https://nwis.waterdata.usgs.gov/nwis/peak?site_no=06730500&agency_cd=USGS&format=rdb\"\n",
    "download_path = os.path.join(\"data\", \"colorado-flood\", \"downloads\", \"annual-peak-flow.txt\")\n",
    "urllib.request.urlretrieve(url, download_path)"
   ]
  },
  {
   "cell_type": "code",
   "execution_count": 43,
   "id": "2679019d",
   "metadata": {},
   "outputs": [],
   "source": [
    "# A function that counts the number of lines with a comment.\n",
    "def count_the(file_url):\n",
    "    r = requests.get(file_url, stream=True)\n",
    "    file = r.text\n",
    "    count = 0\n",
    "    for line in file:\n",
    "        if line.startswith('#'):\n",
    "            count += 1\n",
    "    return count\n",
    "\n",
    "# Find lines to skip.\n",
    "lines_to_skip = count_the(url) + 1"
   ]
  },
  {
   "cell_type": "code",
   "execution_count": 44,
   "id": "9288f9a4",
   "metadata": {},
   "outputs": [
    {
     "data": {
      "text/plain": [
       "73"
      ]
     },
     "execution_count": 44,
     "metadata": {},
     "output_type": "execute_result"
    }
   ],
   "source": [
    "lines_to_skip"
   ]
  },
  {
   "cell_type": "code",
   "execution_count": 45,
   "id": "99bf9908",
   "metadata": {},
   "outputs": [
    {
     "data": {
      "text/html": [
       "<div>\n",
       "<style scoped>\n",
       "    .dataframe tbody tr th:only-of-type {\n",
       "        vertical-align: middle;\n",
       "    }\n",
       "\n",
       "    .dataframe tbody tr th {\n",
       "        vertical-align: top;\n",
       "    }\n",
       "\n",
       "    .dataframe thead th {\n",
       "        text-align: right;\n",
       "    }\n",
       "</style>\n",
       "<table border=\"1\" class=\"dataframe\">\n",
       "  <thead>\n",
       "    <tr style=\"text-align: right;\">\n",
       "      <th></th>\n",
       "      <th>peak_va</th>\n",
       "    </tr>\n",
       "    <tr>\n",
       "      <th>peak_dt</th>\n",
       "      <th></th>\n",
       "    </tr>\n",
       "  </thead>\n",
       "  <tbody>\n",
       "    <tr>\n",
       "      <th>1927-07-29</th>\n",
       "      <td>407.0</td>\n",
       "    </tr>\n",
       "    <tr>\n",
       "      <th>1928-06-04</th>\n",
       "      <td>694.0</td>\n",
       "    </tr>\n",
       "    <tr>\n",
       "      <th>1929-07-23</th>\n",
       "      <td>530.0</td>\n",
       "    </tr>\n",
       "    <tr>\n",
       "      <th>1930-08-18</th>\n",
       "      <td>353.0</td>\n",
       "    </tr>\n",
       "    <tr>\n",
       "      <th>1931-05-29</th>\n",
       "      <td>369.0</td>\n",
       "    </tr>\n",
       "  </tbody>\n",
       "</table>\n",
       "</div>"
      ],
      "text/plain": [
       "            peak_va\n",
       "peak_dt            \n",
       "1927-07-29    407.0\n",
       "1928-06-04    694.0\n",
       "1929-07-23    530.0\n",
       "1930-08-18    353.0\n",
       "1931-05-29    369.0"
      ]
     },
     "execution_count": 45,
     "metadata": {},
     "output_type": "execute_result"
    }
   ],
   "source": [
    "# Open the data in pandas.\n",
    "usgs_annual_max = pd.read_csv(download_path,\n",
    "                             skiprows=[lines_to_skip],\n",
    "                             comment='#',\n",
    "                             sep='\\t',\n",
    "                             usecols=['peak_dt', 'peak_va'],\n",
    "                             parse_dates=['peak_dt'],\n",
    "                             index_col='peak_dt')\n",
    "usgs_annual_max.head()"
   ]
  },
  {
   "cell_type": "code",
   "execution_count": 47,
   "id": "b6c4d662",
   "metadata": {},
   "outputs": [
    {
     "data": {
      "text/html": [
       "<div>\n",
       "<style scoped>\n",
       "    .dataframe tbody tr th:only-of-type {\n",
       "        vertical-align: middle;\n",
       "    }\n",
       "\n",
       "    .dataframe tbody tr th {\n",
       "        vertical-align: top;\n",
       "    }\n",
       "\n",
       "    .dataframe thead th {\n",
       "        text-align: right;\n",
       "    }\n",
       "</style>\n",
       "<table border=\"1\" class=\"dataframe\">\n",
       "  <thead>\n",
       "    <tr style=\"text-align: right;\">\n",
       "      <th></th>\n",
       "      <th>peak_va</th>\n",
       "      <th>year</th>\n",
       "    </tr>\n",
       "    <tr>\n",
       "      <th>peak_dt</th>\n",
       "      <th></th>\n",
       "      <th></th>\n",
       "    </tr>\n",
       "  </thead>\n",
       "  <tbody>\n",
       "    <tr>\n",
       "      <th>1947-10-15</th>\n",
       "      <td>721.0</td>\n",
       "      <td>1947</td>\n",
       "    </tr>\n",
       "    <tr>\n",
       "      <th>1993-10-18</th>\n",
       "      <td>497.0</td>\n",
       "      <td>1993</td>\n",
       "    </tr>\n",
       "  </tbody>\n",
       "</table>\n",
       "</div>"
      ],
      "text/plain": [
       "            peak_va  year\n",
       "peak_dt                  \n",
       "1947-10-15    721.0  1947\n",
       "1993-10-18    497.0  1993"
      ]
     },
     "execution_count": 47,
     "metadata": {},
     "output_type": "execute_result"
    }
   ],
   "source": [
    "# Add a year column for convenient plotting.\n",
    "usgs_annual_max[\"year\"] = usgs_annual_max.index.year\n",
    "\n",
    "# Check for duplicates. Returns years with duplicates.\n",
    "usgs_annual_max[usgs_annual_max.duplicated(subset=\"year\") == True]"
   ]
  },
  {
   "cell_type": "code",
   "execution_count": 49,
   "id": "5cc24160",
   "metadata": {},
   "outputs": [],
   "source": [
    "# Remove duplicate -- keep max value.\n",
    "usgs_annual_max = usgs_annual_max.sort_values('peak_va', ascending=False).drop_duplicates('year').sort_index()"
   ]
  },
  {
   "cell_type": "code",
   "execution_count": 50,
   "id": "58d0e81c",
   "metadata": {},
   "outputs": [
    {
     "data": {
      "text/html": [
       "<div>\n",
       "<style scoped>\n",
       "    .dataframe tbody tr th:only-of-type {\n",
       "        vertical-align: middle;\n",
       "    }\n",
       "\n",
       "    .dataframe tbody tr th {\n",
       "        vertical-align: top;\n",
       "    }\n",
       "\n",
       "    .dataframe thead th {\n",
       "        text-align: right;\n",
       "    }\n",
       "</style>\n",
       "<table border=\"1\" class=\"dataframe\">\n",
       "  <thead>\n",
       "    <tr style=\"text-align: right;\">\n",
       "      <th></th>\n",
       "      <th>peak_va</th>\n",
       "      <th>year</th>\n",
       "    </tr>\n",
       "    <tr>\n",
       "      <th>peak_dt</th>\n",
       "      <th></th>\n",
       "      <th></th>\n",
       "    </tr>\n",
       "  </thead>\n",
       "  <tbody>\n",
       "  </tbody>\n",
       "</table>\n",
       "</div>"
      ],
      "text/plain": [
       "Empty DataFrame\n",
       "Columns: [peak_va, year]\n",
       "Index: []"
      ]
     },
     "execution_count": 50,
     "metadata": {},
     "output_type": "execute_result"
    }
   ],
   "source": [
    "# Check that duplicate removal worked.\n",
    "usgs_annual_max[usgs_annual_max.duplicated(subset=\"year\") == True]"
   ]
  },
  {
   "cell_type": "code",
   "execution_count": 51,
   "id": "08328d69",
   "metadata": {},
   "outputs": [
    {
     "data": {
      "image/png": "[encoded data removed]",
      "text/plain": [
       "<Figure size 792x648 with 1 Axes>"
      ]
     },
     "metadata": {},
     "output_type": "display_data"
    }
   ],
   "source": [
    "# Compare your calculated annual max against the USGS annual max.\n",
    "fix, ax = plt.subplots(figsize=(11, 9))\n",
    "ax.plot(usgs_annual_max[\"year\"],\n",
    "        usgs_annual_max[\"peak_va\"],\n",
    "        color=\"purple\",\n",
    "        linestyle=':',\n",
    "        marker='o',\n",
    "        label=\"Instantaneous Value\")\n",
    "\n",
    "ax.plot(longmont_discharge_annual_max[\"year\"],\n",
    "        longmont_discharge_annual_max[\"discharge\"],\n",
    "        color=\"lightgrey\",\n",
    "        linestyle=':',\n",
    "        marker='o', label=\"Mean Daily Value\")\n",
    "ax.legend()\n",
    "ax.set_title(\n",
    "    \"Annual Maxima - Downloaded Instantaneous vs. Derived Daily Peak Flows\")\n",
    "\n",
    "plt.show()"
   ]
  },
  {
   "cell_type": "code",
   "execution_count": null,
   "id": "6f3b0a25",
   "metadata": {},
   "outputs": [],
   "source": []
  }
 ],
 "metadata": {
  "kernelspec": {
   "display_name": "Python 3",
   "language": "python",
   "name": "python3"
  },
  "language_info": {
   "codemirror_mode": {
    "name": "ipython",
    "version": 3
   },
   "file_extension": ".py",
   "mimetype": "text/x-python",
   "name": "python",
   "nbconvert_exporter": "python",
   "pygments_lexer": "ipython3",
   "version": "3.9.4"
  }
 },
 "nbformat": 4,
 "nbformat_minor": 5
}
